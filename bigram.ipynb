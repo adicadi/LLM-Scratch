{
 "cells": [
  {
   "cell_type": "code",
   "execution_count": 13,
   "metadata": {},
   "outputs": [],
   "source": [
    "import torch "
   ]
  },
  {
   "cell_type": "code",
   "execution_count": 14,
   "metadata": {},
   "outputs": [
    {
     "name": "stdout",
     "output_type": "stream",
     "text": [
      "['\\n', ' ', '!', '\"', '&', \"'\", '(', ')', '*', ',', '-', '.', '0', '1', '2', '3', '4', '5', '6', '7', '8', '9', ':', ';', '?', 'A', 'B', 'C', 'D', 'E', 'F', 'G', 'H', 'I', 'J', 'K', 'L', 'M', 'N', 'O', 'P', 'Q', 'R', 'S', 'T', 'U', 'V', 'W', 'X', 'Y', 'Z', '[', ']', '_', 'a', 'b', 'c', 'd', 'e', 'f', 'g', 'h', 'i', 'j', 'k', 'l', 'm', 'n', 'o', 'p', 'q', 'r', 's', 't', 'u', 'v', 'w', 'x', 'y', 'z', '\\ufeff']\n",
      "81\n"
     ]
    }
   ],
   "source": [
    "with open('dataset/wizard_of_oz.txt', 'r', encoding='utf-8') as f:\n",
    "    text = f.read()\n",
    "    \n",
    "chars = sorted(list(set(text)))\n",
    "vocab_size = len(chars)\n",
    "print(chars)\n",
    "print(len(chars))"
   ]
  },
  {
   "cell_type": "code",
   "execution_count": 15,
   "metadata": {},
   "outputs": [
    {
     "name": "stdout",
     "output_type": "stream",
     "text": [
      "[32, 58, 65, 65, 68]\n",
      "Hello\n"
     ]
    }
   ],
   "source": [
    "string_to_int = {ch: i for i, ch in enumerate(chars)}\n",
    "int_to_string = {i: ch for i, ch in enumerate(chars)}\n",
    "encode = lambda s: [string_to_int[c] for c in s]\n",
    "decode = lambda l: ''.join([int_to_string[i] for i in l])\n",
    "\n",
    "encoded_hello = encode(\"Hello\")\n",
    "decoded_hello = decode(encoded_hello)\n",
    "print(encoded_hello)\n",
    "print(decoded_hello)"
   ]
  },
  {
   "cell_type": "code",
   "execution_count": 16,
   "metadata": {},
   "outputs": [
    {
     "name": "stdout",
     "output_type": "stream",
     "text": [
      "torch.Size([232477]) torch.int64\n",
      "tensor([80, 28, 39, 42, 39, 44, 32, 49,  1, 25, 38, 28,  1, 44, 32, 29,  1, 47,\n",
      "        33, 50, 25, 42, 28,  1, 33, 38,  1, 39, 50,  0,  0,  1,  1, 26, 49,  0,\n",
      "         0,  1,  1, 36, 11,  1, 30, 42, 25, 38, 35,  1, 26, 25, 45, 37,  0,  0,\n",
      "         1,  1, 25, 45, 44, 32, 39, 42,  1, 39, 30,  1, 44, 32, 29,  1, 47, 33,\n",
      "        50, 25, 42, 28,  1, 39, 30,  1, 39, 50,  9,  1, 44, 32, 29,  1, 36, 25,\n",
      "        38, 28,  1, 39, 30,  1, 39, 50,  9,  1, 39, 50, 37, 25,  1, 39, 30,  1,\n",
      "        39, 50,  9,  1, 29, 44, 27, 11,  0,  0,  1,  1, 33, 36, 36, 45, 43, 44,\n",
      "        42, 25, 44, 29, 28,  1, 26, 49,  1, 34, 39, 32, 38,  1, 42, 11,  1, 38,\n",
      "        29, 33, 36, 36,  0,  0,  1,  1, 26, 39, 39, 35, 43,  1, 39, 30,  1, 47,\n",
      "        39, 38, 28, 29, 42,  1, 47, 33, 36, 36, 33, 25, 37,  1, 37, 39, 42, 42,\n",
      "        39, 47,  1,  4,  1, 27, 39, 11,  9,  1, 33, 38, 27, 11,  1, 38, 29, 47,\n",
      "         1, 49, 39, 42, 35,  0,  0,  0,  1,  1, 51, 33, 65, 65, 74, 72, 73, 71,\n",
      "        54, 73, 62, 68, 67, 52,  0,  0,  0,  1,  1, 27, 39, 40, 49, 42, 33, 31,\n",
      "        32, 44,  1, 13, 21, 12, 20,  1, 26, 49,  1, 36, 11,  1, 30, 42, 25, 38,\n",
      "        35,  1, 26, 25, 45, 37,  0,  0,  1,  1, 25, 36, 36,  1, 42, 33, 31, 32,\n",
      "        44, 43,  1, 42, 29, 43, 29, 42, 46, 29, 28,  0,  0,  0,  1,  1,  1,  1,\n",
      "         1,  1,  1,  1,  1,  8,  1,  1,  1,  1,  1,  1,  1,  8,  1,  1,  1,  1,\n",
      "         1,  1,  1,  8,  1,  1,  1,  1,  1,  1,  1,  8,  1,  1,  1,  1,  1,  1,\n",
      "         1,  8,  0,  0,  0,  1,  1, 51, 33, 65, 65, 74, 72, 73, 71, 54, 73, 62,\n",
      "        68, 67, 52,  0,  0,  0,  1,  1, 28, 29, 28, 33, 27, 25, 44, 29, 28,  1,\n",
      "        44, 39,  1, 32, 25, 42, 42, 33, 29, 44,  1, 25, 11,  1, 26, 11,  1, 38,\n",
      "        29, 25, 36, 11,  0,  0,  0,  1,  1,  1,  1,  1,  1,  1,  1,  1,  8,  1,\n",
      "         1,  1,  1,  1,  1,  1,  8,  1,  1,  1,  1,  1,  1,  1,  8,  1,  1,  1,\n",
      "         1,  1,  1,  1,  8,  1,  1,  1,  1,  1,  1,  1,  8,  0,  0,  0, 44, 68,\n",
      "         1, 37, 78,  1, 42, 58, 54, 57, 58, 71, 72,  0,  0,  0, 33, 73,  5, 72,\n",
      "         1, 67, 68,  1, 74, 72, 58, 23,  1, 67, 68,  1, 74, 72, 58,  1, 54, 73,\n",
      "         1, 54, 65, 65, 11,  1, 44, 61, 58,  1, 56, 61, 62, 65, 57, 71, 58, 67,\n",
      "         1, 76, 68, 67,  5, 73,  1, 65, 58, 73,  1, 66, 58,  1, 72, 73, 68, 69,\n",
      "         1, 73, 58, 65, 65, 62, 67, 60,  1, 73, 54, 65, 58, 72,  0, 68, 59,  1,\n",
      "        73, 61, 58,  1, 36, 54, 67, 57,  1, 68, 59,  1, 39, 79, 11,  1, 33,  1,\n",
      "        64, 67, 68, 76,  1, 65, 68, 73, 72,  1, 68, 59,  1, 68, 73, 61, 58, 71,\n",
      "         1, 72, 73, 68, 71, 62, 58, 72,  9,  1, 54, 67, 57,  1, 33,  1, 61, 68,\n",
      "        69, 58,  1, 73, 68,  1, 73, 58, 65, 65,  0, 73, 61, 58, 66,  9,  1, 72,\n",
      "        68, 66, 58,  1, 73, 62, 66, 58,  1, 68, 71,  1, 54, 67, 68, 73, 61, 58,\n",
      "        71, 23,  1, 55, 74, 73,  1, 63, 74, 72, 73,  1, 67, 68, 76,  1, 66, 78,\n",
      "         1, 65, 68, 75, 62, 67, 60,  1, 73, 78, 71, 54, 67, 73, 72,  1, 76, 68,\n",
      "        67,  5, 73,  1, 54, 65, 65, 68, 76,  0, 66, 58, 11,  1, 44, 61, 58, 78,\n",
      "         1, 56, 71, 78, 22,  1,  3, 39, 79, 10, 10, 39, 79,  2,  1, 66, 68, 71,\n",
      "        58,  1, 54, 55, 68, 74, 73,  1, 39, 79,  9,  1, 37, 71, 11,  1, 26, 54,\n",
      "        74, 66,  2,  3,  1, 54, 67, 57,  1, 76, 61, 54, 73,  1, 56, 54, 67,  1,\n",
      "        33,  1, 57, 68,  1, 55, 74, 73,  0, 68, 55, 58, 78,  1, 73, 61, 58, 62,\n",
      "        71,  1, 56, 68, 66, 66, 54, 67, 57, 72, 24,  0,  0, 44, 61, 62, 72,  1,\n",
      "        62, 72,  1, 39, 74, 71,  1, 26, 68, 68, 64, 10, 10, 66, 62, 67, 58,  1,\n",
      "        54, 67, 57,  1, 73, 61, 58,  1, 56, 61, 62, 65, 57, 71, 58, 67,  5, 72,\n",
      "        11,  1, 30, 68, 71,  1, 73, 61, 58, 78,  1, 61, 54, 75, 58,  1, 59, 65,\n",
      "        68, 68, 57, 58, 57,  1, 66, 58,  1, 76, 62, 73, 61,  0, 73, 61, 68, 74,\n",
      "        72, 54, 67, 57, 72,  1, 68, 59,  1, 72, 74, 60, 60, 58, 72, 73, 62, 68,\n",
      "        67, 72,  1, 62, 67,  1, 71, 58, 60, 54, 71, 57,  1, 73, 68,  1, 62, 73,\n",
      "         9,  1, 54, 67, 57,  1, 33,  1, 61, 54, 75, 58,  1, 61, 68, 67, 58, 72,\n",
      "        73, 65, 78,  1, 73, 71, 62, 58, 57,  1, 73, 68,  0, 54, 57, 68, 69, 73,\n",
      "         1, 54, 72,  1, 66, 54, 67, 78,  1, 68, 59,  1, 73, 61, 58, 72, 58,  1,\n",
      "        72, 74, 60, 60, 58, 72, 73, 62, 68, 67, 72,  1, 54, 72,  1, 56, 68, 74,\n",
      "        65, 57,  1, 55, 58,  1, 59, 62, 73, 73, 58, 57,  1, 62, 67, 73, 68,  1,\n",
      "        68, 67, 58,  1, 72, 73, 68, 71, 78, 11,  0,  0, 25, 59, 73, 58, 71,  1,\n",
      "        73, 61, 58,  1, 76, 68, 67, 57, 58, 71, 59, 74, 65,  1, 72, 74, 56, 56,\n",
      "        58, 72, 72,  1, 68, 59,  1,  3, 39, 79])\n"
     ]
    }
   ],
   "source": [
    "data = torch.tensor(encode(text), dtype=torch.long)\n",
    "print(data.shape, data.dtype)\n",
    "print(data[:1000])"
   ]
  },
  {
   "cell_type": "code",
   "execution_count": 17,
   "metadata": {},
   "outputs": [],
   "source": [
    "n = int(0.9*len(data))\n",
    "train_data = data[:n]\n",
    "val_data = data[n:]"
   ]
  },
  {
   "cell_type": "code",
   "execution_count": 18,
   "metadata": {},
   "outputs": [
    {
     "data": {
      "text/plain": [
       "tensor([80, 28, 39, 42, 39, 44, 32, 49,  1])"
      ]
     },
     "execution_count": 18,
     "metadata": {},
     "output_type": "execute_result"
    }
   ],
   "source": [
    "block_size = 8\n",
    "train_data[:block_size+1]"
   ]
  },
  {
   "cell_type": "code",
   "execution_count": 19,
   "metadata": {},
   "outputs": [
    {
     "name": "stdout",
     "output_type": "stream",
     "text": [
      "when input is tensor([80]) the target is: 28\n",
      "when input is tensor([80, 28]) the target is: 39\n",
      "when input is tensor([80, 28, 39]) the target is: 42\n",
      "when input is tensor([80, 28, 39, 42]) the target is: 39\n",
      "when input is tensor([80, 28, 39, 42, 39]) the target is: 44\n",
      "when input is tensor([80, 28, 39, 42, 39, 44]) the target is: 32\n",
      "when input is tensor([80, 28, 39, 42, 39, 44, 32]) the target is: 49\n",
      "when input is tensor([80, 28, 39, 42, 39, 44, 32, 49]) the target is: 1\n"
     ]
    }
   ],
   "source": [
    "#Time Dimension of tensor\n",
    "x = train_data[: block_size]\n",
    "y = train_data[1: block_size+1]\n",
    "for t in range(block_size):\n",
    "    context = x[:t+1]\n",
    "    target = y[t]\n",
    "    print(f\"when input is {context} the target is: {target}\")"
   ]
  },
  {
   "cell_type": "code",
   "execution_count": 20,
   "metadata": {},
   "outputs": [
    {
     "name": "stdout",
     "output_type": "stream",
     "text": [
      "inputs:\n",
      "torch.Size([4, 8])\n",
      "tensor([[72, 61,  1, 42, 74, 65, 58, 71],\n",
      "        [62, 79, 79, 58, 72,  1, 54, 67],\n",
      "        [ 1, 58, 57, 60, 58,  1, 68, 59],\n",
      "        [24,  3,  1, 72, 61, 58,  1, 72]])\n",
      "target:\n",
      "torch.Size([4, 8])\n",
      "tensor([[61,  1, 42, 74, 65, 58, 71,  1],\n",
      "        [79, 79, 58, 72,  1, 54, 67, 57],\n",
      "        [58, 57, 60, 58,  1, 68, 59,  1],\n",
      "        [ 3,  1, 72, 61, 58,  1, 72, 54]])\n",
      "------\n",
      "When input is [72] the target: 61\n",
      "When input is [72, 61] the target: 1\n",
      "When input is [72, 61, 1] the target: 42\n",
      "When input is [72, 61, 1, 42] the target: 74\n",
      "When input is [72, 61, 1, 42, 74] the target: 65\n",
      "When input is [72, 61, 1, 42, 74, 65] the target: 58\n",
      "When input is [72, 61, 1, 42, 74, 65, 58] the target: 71\n",
      "When input is [72, 61, 1, 42, 74, 65, 58, 71] the target: 1\n",
      "When input is [62] the target: 79\n",
      "When input is [62, 79] the target: 79\n",
      "When input is [62, 79, 79] the target: 58\n",
      "When input is [62, 79, 79, 58] the target: 72\n",
      "When input is [62, 79, 79, 58, 72] the target: 1\n",
      "When input is [62, 79, 79, 58, 72, 1] the target: 54\n",
      "When input is [62, 79, 79, 58, 72, 1, 54] the target: 67\n",
      "When input is [62, 79, 79, 58, 72, 1, 54, 67] the target: 57\n",
      "When input is [1] the target: 58\n",
      "When input is [1, 58] the target: 57\n",
      "When input is [1, 58, 57] the target: 60\n",
      "When input is [1, 58, 57, 60] the target: 58\n",
      "When input is [1, 58, 57, 60, 58] the target: 1\n",
      "When input is [1, 58, 57, 60, 58, 1] the target: 68\n",
      "When input is [1, 58, 57, 60, 58, 1, 68] the target: 59\n",
      "When input is [1, 58, 57, 60, 58, 1, 68, 59] the target: 1\n",
      "When input is [24] the target: 3\n",
      "When input is [24, 3] the target: 1\n",
      "When input is [24, 3, 1] the target: 72\n",
      "When input is [24, 3, 1, 72] the target: 61\n",
      "When input is [24, 3, 1, 72, 61] the target: 58\n",
      "When input is [24, 3, 1, 72, 61, 58] the target: 1\n",
      "When input is [24, 3, 1, 72, 61, 58, 1] the target: 72\n",
      "When input is [24, 3, 1, 72, 61, 58, 1, 72] the target: 54\n"
     ]
    }
   ],
   "source": [
    "#Batch Size\n",
    "torch.manual_seed(1337)\n",
    "batch_size = 4 \n",
    "block_size = 8\n",
    "\n",
    "def get_batch(split):\n",
    "    \n",
    "    data = train_data if split == 'train' else val_data\n",
    "    ix = torch.randint(len(data) - block_size, (batch_size,))\n",
    "    x = torch.stack([data[i:i+block_size] for i in ix])\n",
    "    y = torch.stack([data[i+1:i+block_size+1] for i in ix])\n",
    "    return x, y\n",
    "\n",
    "xb, yb = get_batch('train')\n",
    "print('inputs:')\n",
    "print(xb.shape)\n",
    "print(xb)\n",
    "print('target:')\n",
    "print(yb.shape)\n",
    "print(yb)\n",
    "\n",
    "print('------')\n",
    "\n",
    "for b in range(batch_size):\n",
    "    for t in range(block_size):\n",
    "        context = xb[b, :t+1]\n",
    "        target = yb[b,t]\n",
    "        print(f\"When input is {context.tolist()} the target: {target}\")"
   ]
  },
  {
   "cell_type": "code",
   "execution_count": 21,
   "metadata": {},
   "outputs": [
    {
     "name": "stdout",
     "output_type": "stream",
     "text": [
      "tensor([[72, 61,  1, 42, 74, 65, 58, 71],\n",
      "        [62, 79, 79, 58, 72,  1, 54, 67],\n",
      "        [ 1, 58, 57, 60, 58,  1, 68, 59],\n",
      "        [24,  3,  1, 72, 61, 58,  1, 72]])\n"
     ]
    }
   ],
   "source": [
    "print(xb)"
   ]
  },
  {
   "cell_type": "code",
   "execution_count": 52,
   "metadata": {},
   "outputs": [
    {
     "name": "stdout",
     "output_type": "stream",
     "text": [
      "torch.Size([256, 81])\n",
      "tensor(4.8199, grad_fn=<NllLossBackward0>)\n",
      "\n",
      "XjAN_LUE2O8q:0vx5Nnd],V8aPmStIpc&\"n9YK﻿P,*5UWQ8a DuWyJq!;?apJzbe ?eaIdce6azd1f;?po2JlT﻿E5'qvBF;72ki)\n"
     ]
    }
   ],
   "source": [
    "import torch \n",
    "import torch.nn as nn \n",
    "from torch.nn import functional as F \n",
    "torch.manual_seed(1337)\n",
    "\n",
    "class BigramLanguageModel(nn.Module):\n",
    "    \n",
    "    def __init__ (self, vocab_size):\n",
    "        super().__init__()\n",
    "        self.token_embedding_table = nn.Embedding(vocab_size, vocab_size)\n",
    "    \n",
    "    def forward(self, idx, targets = None):\n",
    "        \n",
    "        logits = self.token_embedding_table(idx) #(B,T,C)\n",
    "        \n",
    "        if targets == None: \n",
    "            loss = None\n",
    "            \n",
    "        else: \n",
    "            B, T, C = logits.shape\n",
    "            logits = logits.view(B*T, C)\n",
    "            targets = targets.view(B*T)\n",
    "            loss = F.cross_entropy(logits, targets)\n",
    "        \n",
    "        return logits, loss\n",
    "    \n",
    "    \n",
    "    def generate(self, idx, max_new_tokens):\n",
    "        for _ in range(max_new_tokens):\n",
    "            logits, loss = self(idx)\n",
    "            logits = logits[:, -1, :]\n",
    "            probs = F.softmax(logits, dim = -1)\n",
    "            idx_next = torch.multinomial(probs, num_samples = 1)\n",
    "            idx = torch.cat((idx, idx_next), dim = 1)\n",
    "        return idx\n",
    "    \n",
    "m = BigramLanguageModel(vocab_size)\n",
    "logits, loss = m(xb,yb)\n",
    "print(logits.shape)\n",
    "print(loss)\n",
    "print(decode(m.generate(idx = torch.zeros((1,1), dtype= torch.long), max_new_tokens=100)[0].tolist()))\n",
    "        "
   ]
  },
  {
   "cell_type": "code",
   "execution_count": 23,
   "metadata": {},
   "outputs": [],
   "source": [
    "optimizer = torch.optim.AdamW(m.parameters(), lr=1e-3) #pytorch Optimizer"
   ]
  },
  {
   "cell_type": "code",
   "execution_count": 24,
   "metadata": {},
   "outputs": [
    {
     "name": "stdout",
     "output_type": "stream",
     "text": [
      "2.467174530029297\n"
     ]
    }
   ],
   "source": [
    "batch_size = 32\n",
    "for steps in range(10000):\n",
    "    \n",
    "    xb, yb = get_batch('train')\n",
    "    \n",
    "    logits, loss = m(xb, yb)\n",
    "    optimizer.zero_grad(set_to_none=True)\n",
    "    loss.backward()\n",
    "    optimizer.step()\n",
    "    \n",
    "print(loss.item())"
   ]
  },
  {
   "cell_type": "code",
   "execution_count": 25,
   "metadata": {},
   "outputs": [
    {
     "name": "stdout",
     "output_type": "stream",
     "text": [
      "\n",
      "rs be.]E\n",
      "\n",
      "\n",
      "\n",
      "\n",
      "\n",
      "a id  led hase h ven'ver, s\n",
      "k,\"\n",
      "\n",
      "\"\n",
      "ly ad t thand.\"Oziooime o jor tof h u'mQDu'thed arad. Gkered?\" sheces, wouloverak CALThrd gorey, AU6*)Jishe aser m abimpil; hedorcke lat imacen ousir t topamund.\n",
      "\"Thed My grfan thut t otlarst apit, waw faing ththendite tond o w. es Wind\n",
      "\n",
      "\" tea\n",
      "\n",
      "\"NShe thy whe acon whery, sed.\n",
      "\n",
      "pe fo\n",
      "buserunort h, ge tll!\"Wior ty thad af thous,\n",
      "\"\n",
      "\n",
      "\"Do he o hemerie tou\n"
     ]
    }
   ],
   "source": [
    "print(decode(m.generate(idx = torch.zeros((1,1), dtype= torch.long), max_new_tokens=400)[0].tolist()))"
   ]
  },
  {
   "cell_type": "code",
   "execution_count": 26,
   "metadata": {},
   "outputs": [
    {
     "data": {
      "text/plain": [
       "torch.Size([4, 8, 2])"
      ]
     },
     "execution_count": 26,
     "metadata": {},
     "output_type": "execute_result"
    }
   ],
   "source": [
    "torch.manual_seed(1337)\n",
    "B,T,C = 4, 8, 2\n",
    "x = torch.randn(B,T,C)\n",
    "x.shape"
   ]
  },
  {
   "cell_type": "code",
   "execution_count": 27,
   "metadata": {},
   "outputs": [],
   "source": [
    "xbow = torch.zeros(B,T,C)\n",
    "for b in range(B): \n",
    "    for t in range(T):\n",
    "        xprev = x[b,:t+1] \n",
    "        xbow[b,t] = torch.mean(xprev, 0)"
   ]
  },
  {
   "cell_type": "code",
   "execution_count": 28,
   "metadata": {},
   "outputs": [
    {
     "data": {
      "text/plain": [
       "True"
      ]
     },
     "execution_count": 28,
     "metadata": {},
     "output_type": "execute_result"
    }
   ],
   "source": [
    "#version 2\n",
    "wei = torch.tril(torch.ones(T,T))\n",
    "wei = wei / wei.sum(1, keepdim=True)\n",
    "xbow2 = wei @ x #(B,T,T) @ (B,T,C) -> (B,T,C)\n",
    "torch.allclose(xbow, xbow2) "
   ]
  },
  {
   "cell_type": "code",
   "execution_count": 29,
   "metadata": {},
   "outputs": [
    {
     "data": {
      "text/plain": [
       "True"
      ]
     },
     "execution_count": 29,
     "metadata": {},
     "output_type": "execute_result"
    }
   ],
   "source": [
    "# version 3: Uses Softmax\n",
    "tril = torch.tril(torch.ones(T,T))\n",
    "wei = torch.zeros((T,T))\n",
    "wei = wei.masked_fill(tril == 0, float('-inf'))\n",
    "wei = F.softmax(wei, dim=-1)\n",
    "xbow3 = wei @ x \n",
    "torch.allclose(xbow, xbow3)"
   ]
  },
  {
   "cell_type": "code",
   "execution_count": 43,
   "metadata": {},
   "outputs": [
    {
     "data": {
      "text/plain": [
       "torch.Size([4, 8, 16])"
      ]
     },
     "execution_count": 43,
     "metadata": {},
     "output_type": "execute_result"
    }
   ],
   "source": [
    "#version 4: Self Attention\n",
    "torch.manual_seed(1337)\n",
    "B,T,C = 4, 8, 32\n",
    "x = torch.randn(B,T,C)\n",
    "\n",
    "head_size = 16\n",
    "key = nn.Linear(C, head_size, bias = False)\n",
    "query = nn.Linear(C, head_size, bias = False)\n",
    "value = nn.Linear(C, head_size, bias = False)\n",
    "k = key(x) # (B,T,head_size)\n",
    "q = query(x) # (B,T,head_size)\n",
    "wei = q @ k.transpose(-2,-1) # (B,T,head_size) @ (B,head_size,T) -> (B,T,T)\n",
    "\n",
    "tril = torch.tril(torch.ones(T,T))\n",
    "#wei = torch.zeros((T,T))\n",
    "wei = wei.masked_fill(tril == 0, float('-inf'))\n",
    "wei = F.softmax(wei, dim=-1)\n",
    "\n",
    "v = value(x) # (B,T,head_size)\n",
    "out = wei @ v # (B,T,T) @ (B,T,head_size) -> (B,T,head_size)\n",
    "#out = wei @ x\n",
    "\n",
    "out.shape"
   ]
  },
  {
   "cell_type": "code",
   "execution_count": 45,
   "metadata": {},
   "outputs": [
    {
     "data": {
      "text/plain": [
       "tensor([[1., 0., 0., 0., 0., 0., 0., 0.],\n",
       "        [1., 1., 0., 0., 0., 0., 0., 0.],\n",
       "        [1., 1., 1., 0., 0., 0., 0., 0.],\n",
       "        [1., 1., 1., 1., 0., 0., 0., 0.],\n",
       "        [1., 1., 1., 1., 1., 0., 0., 0.],\n",
       "        [1., 1., 1., 1., 1., 1., 0., 0.],\n",
       "        [1., 1., 1., 1., 1., 1., 1., 0.],\n",
       "        [1., 1., 1., 1., 1., 1., 1., 1.]])"
      ]
     },
     "execution_count": 45,
     "metadata": {},
     "output_type": "execute_result"
    }
   ],
   "source": [
    "tril"
   ]
  },
  {
   "cell_type": "code",
   "execution_count": 47,
   "metadata": {},
   "outputs": [
    {
     "data": {
      "text/plain": [
       "tensor([[1.0000, 0.0000, 0.0000, 0.0000, 0.0000, 0.0000, 0.0000, 0.0000],\n",
       "        [0.1574, 0.8426, 0.0000, 0.0000, 0.0000, 0.0000, 0.0000, 0.0000],\n",
       "        [0.2088, 0.1646, 0.6266, 0.0000, 0.0000, 0.0000, 0.0000, 0.0000],\n",
       "        [0.5792, 0.1187, 0.1889, 0.1131, 0.0000, 0.0000, 0.0000, 0.0000],\n",
       "        [0.0294, 0.1052, 0.0469, 0.0276, 0.7909, 0.0000, 0.0000, 0.0000],\n",
       "        [0.0176, 0.2689, 0.0215, 0.0089, 0.6812, 0.0019, 0.0000, 0.0000],\n",
       "        [0.1691, 0.4066, 0.0438, 0.0416, 0.1048, 0.2012, 0.0329, 0.0000],\n",
       "        [0.0210, 0.0843, 0.0555, 0.2297, 0.0573, 0.0709, 0.2423, 0.2391]],\n",
       "       grad_fn=<SelectBackward0>)"
      ]
     },
     "execution_count": 47,
     "metadata": {},
     "output_type": "execute_result"
    }
   ],
   "source": [
    "wei[0]"
   ]
  },
  {
   "cell_type": "code",
   "execution_count": 30,
   "metadata": {},
   "outputs": [
    {
     "data": {
      "text/plain": [
       "(tensor([[ 0.1808, -0.0700],\n",
       "         [-0.0894, -0.4926],\n",
       "         [ 0.1490, -0.3199],\n",
       "         [ 0.3504, -0.2238],\n",
       "         [ 0.3525,  0.0545],\n",
       "         [ 0.0688, -0.0396],\n",
       "         [ 0.0927, -0.0682],\n",
       "         [-0.0341,  0.1332]]),\n",
       " tensor([[ 0.1808, -0.0700],\n",
       "         [-0.0894, -0.4926],\n",
       "         [ 0.1490, -0.3199],\n",
       "         [ 0.3504, -0.2238],\n",
       "         [ 0.3525,  0.0545],\n",
       "         [ 0.0688, -0.0396],\n",
       "         [ 0.0927, -0.0682],\n",
       "         [-0.0341,  0.1332]]))"
      ]
     },
     "execution_count": 30,
     "metadata": {},
     "output_type": "execute_result"
    }
   ],
   "source": [
    "xbow[0], xbow2[0]"
   ]
  },
  {
   "cell_type": "code",
   "execution_count": 48,
   "metadata": {},
   "outputs": [],
   "source": [
    "k = torch.randn(B, T, head_size)\n",
    "q = torch.randn(B, T, head_size)\n",
    "wei = q @ k.transpose(-2,-1) * head_size**-0.5 # (B,T,head_size) @ (B,head_size,T) -> (B,T,T)"
   ]
  },
  {
   "cell_type": "code",
   "execution_count": 49,
   "metadata": {},
   "outputs": [
    {
     "data": {
      "text/plain": [
       "tensor(1.0449)"
      ]
     },
     "execution_count": 49,
     "metadata": {},
     "output_type": "execute_result"
    }
   ],
   "source": [
    "k.var()"
   ]
  },
  {
   "cell_type": "code",
   "execution_count": 50,
   "metadata": {},
   "outputs": [
    {
     "data": {
      "text/plain": [
       "tensor(1.0700)"
      ]
     },
     "execution_count": 50,
     "metadata": {},
     "output_type": "execute_result"
    }
   ],
   "source": [
    "q.var()"
   ]
  },
  {
   "cell_type": "code",
   "execution_count": 51,
   "metadata": {},
   "outputs": [
    {
     "data": {
      "text/plain": [
       "tensor(1.0918)"
      ]
     },
     "execution_count": 51,
     "metadata": {},
     "output_type": "execute_result"
    }
   ],
   "source": [
    "wei.var()"
   ]
  }
 ],
 "metadata": {
  "kernelspec": {
   "display_name": "cuda",
   "language": "python",
   "name": "python3"
  },
  "language_info": {
   "codemirror_mode": {
    "name": "ipython",
    "version": 3
   },
   "file_extension": ".py",
   "mimetype": "text/x-python",
   "name": "python",
   "nbconvert_exporter": "python",
   "pygments_lexer": "ipython3",
   "version": "3.13.2"
  }
 },
 "nbformat": 4,
 "nbformat_minor": 2
}
